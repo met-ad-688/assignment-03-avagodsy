{
 "cells": [
  {
   "cell_type": "markdown",
   "id": "64952753",
   "metadata": {},
   "source": [
    "---\n",
    "title: Assignment 03\n",
    "author:\n",
    "    - name: Ava Godsy\n",
    "      affiliations:\n",
    "        - id: bu\n",
    "          name: Boston University\n",
    "          city: Boston\n",
    "          state: MA\n",
    "number-sections: true\n",
    "date: '2025-09-22'\n",
    "format:\n",
    "    html:\n",
    "        toc: true\n",
    "        toc-depth: 2\n",
    "        theme: cosmo\n",
    "    docx: default\n",
    "    pdf: default\n",
    "date-modified: today\n",
    "date-format: long\n",
    "---"
   ]
  },
  {
   "cell_type": "markdown",
   "id": "42a28377",
   "metadata": {},
   "source": [
    "# Load the dataset"
   ]
  },
  {
   "cell_type": "code",
   "execution_count": 10,
   "id": "97b067df",
   "metadata": {},
   "outputs": [
    {
     "name": "stderr",
     "output_type": "stream",
     "text": [
      "                                                                                \r"
     ]
    }
   ],
   "source": [
    "#| eval: true\n",
    "#| echo: true\n",
    "#| fig-align: center\n",
    "\n",
    "\n",
    "import pandas as pd\n",
    "import plotly.express as px\n",
    "import plotly.io as pio\n",
    "from pyspark.sql import SparkSession\n",
    "import re\n",
    "import numpy as np\n",
    "import plotly.graph_objects as go\n",
    "from pyspark.sql.functions import col, split, explode, regexp_replace, transform, when\n",
    "from pyspark.sql import functions as F\n",
    "from pyspark.sql.functions import col, monotonically_increasing_id\n",
    "\n",
    "np.random.seed(42)\n",
    "\n",
    "pio.renderers.default = \"notebook\"\n",
    "\n",
    "# Initialize Spark Session\n",
    "spark = SparkSession.builder.appName(\"LightcastData\").getOrCreate()\n",
    "\n",
    "# Load Data\n",
    "df = spark.read.option(\"header\", \"true\").option(\"inferSchema\", \"true\").option(\"multiLine\",\"true\").option(\"escape\", \"\\\"\").csv(\"lightcast_job_postings.csv\")\n",
    "df.createOrReplaceTempView(\"job_postings\")\n",
    "\n",
    "# Show Schema and Sample Data\n",
    "# print(\"---This is Diagnostic check, No need to print it in the final doc---\")\n",
    "\n",
    "# df.printSchema() # comment this line when rendering the submission\n",
    "# df.show(5)"
   ]
  },
  {
   "cell_type": "markdown",
   "id": "6a9bc1be",
   "metadata": {},
   "source": [
    "# Data Cleaning"
   ]
  },
  {
   "cell_type": "code",
   "execution_count": null,
   "id": "cdf0f653",
   "metadata": {},
   "outputs": [],
   "source": [
    "median_from"
   ]
  },
  {
   "cell_type": "markdown",
   "id": "b27ff0c6",
   "metadata": {},
   "source": [
    "# Salary Distribution by Industry and Employment Type"
   ]
  },
  {
   "cell_type": "code",
   "execution_count": null,
   "id": "7bd15773",
   "metadata": {},
   "outputs": [],
   "source": []
  },
  {
   "cell_type": "markdown",
   "id": "125f848a",
   "metadata": {},
   "source": [
    "# Salary Analysis by ONET Occupation Type (Bubble Chart)"
   ]
  },
  {
   "cell_type": "code",
   "execution_count": null,
   "id": "17b88d07",
   "metadata": {},
   "outputs": [],
   "source": []
  },
  {
   "cell_type": "markdown",
   "id": "43529ae8",
   "metadata": {},
   "source": [
    "# Salary by Education Level"
   ]
  },
  {
   "cell_type": "code",
   "execution_count": null,
   "id": "3292827d",
   "metadata": {},
   "outputs": [],
   "source": []
  },
  {
   "cell_type": "markdown",
   "id": "ade6a0e1",
   "metadata": {},
   "source": [
    "# Salary by Remote Work Type"
   ]
  },
  {
   "cell_type": "code",
   "execution_count": null,
   "id": "9949acb5",
   "metadata": {},
   "outputs": [],
   "source": []
  }
 ],
 "metadata": {
  "kernelspec": {
   "display_name": ".venv",
   "language": "python",
   "name": "python3"
  },
  "language_info": {
   "codemirror_mode": {
    "name": "ipython",
    "version": 3
   },
   "file_extension": ".py",
   "mimetype": "text/x-python",
   "name": "python",
   "nbconvert_exporter": "python",
   "pygments_lexer": "ipython3",
   "version": "3.12.3"
  }
 },
 "nbformat": 4,
 "nbformat_minor": 5
}
